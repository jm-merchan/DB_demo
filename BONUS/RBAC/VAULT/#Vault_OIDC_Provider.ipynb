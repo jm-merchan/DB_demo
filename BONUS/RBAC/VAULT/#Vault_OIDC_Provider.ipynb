{
 "cells": [
  {
   "cell_type": "code",
   "execution_count": 15,
   "id": "47fef16a",
   "metadata": {},
   "outputs": [
    {
     "name": "stdout",
     "output_type": "stream",
     "text": [
      "env: VAULT_ADDR=https://vault-cluster-public-vault-d4e71bb2.39ea30b7.z1.hashicorp.cloud:8200\n",
      "env: VAULT_TOKEN=hvs.CAESII0ggf_xy67UFD9Sccg8vpD7s3EwAHvEvRy3pvkag7VnGigKImh2cy44TE1GNHd4OXltZUNGMWI2ZE5na28yRjkud2FNY00QioAB\n",
      "env: VAULT_NAMESPACE=admin\n",
      "env: BOUNDARY_ADDR=https://8cd58e1c-2e7a-4b63-b475-21f5fb2f38c4.boundary.hashicorp.cloud\n"
     ]
    }
   ],
   "source": [
    "%env VAULT_ADDR=https://vault-cluster-public-vault-d4e71bb2.39ea30b7.z1.hashicorp.cloud:8200\n",
    "%env VAULT_TOKEN=hvs.CAESII0ggf_xy67UFD9Sccg8vpD7s3EwAHvEvRy3pvkag7VnGigKImh2cy44TE1GNHd4OXltZUNGMWI2ZE5na28yRjkud2FNY00QioAB\n",
    "%env VAULT_NAMESPACE=admin\n",
    "%env BOUNDARY_ADDR=https://8cd58e1c-2e7a-4b63-b475-21f5fb2f38c4.boundary.hashicorp.cloud"
   ]
  },
  {
   "cell_type": "code",
   "execution_count": 2,
   "id": "d9137e05",
   "metadata": {},
   "outputs": [
    {
     "name": "stdout",
     "output_type": "stream",
     "text": [
      "Path                  Type            Accessor                 Description\n",
      "----                  ----            --------                 -----------\n",
      "cubbyhole/            ns_cubbyhole    ns_cubbyhole_04e75ab9    per-token private secret storage\n",
      "database/             database        database_5771d4c4        This is an example Database Example\n",
      "identity/             ns_identity     ns_identity_d5ae937d     identity store\n",
      "secrets/              kv              kv_e7964edb              Key-Value Secrets Engine\n",
      "ssh-client-signer/    ssh             ssh_bfdda0a2             This is an example SSH Engine\n",
      "sys/                  ns_system       ns_system_1c78f1bb       system endpoints used for control, policy and debugging\n"
     ]
    }
   ],
   "source": [
    "%%bash\n",
    "vault secrets list"
   ]
  },
  {
   "attachments": {},
   "cell_type": "markdown",
   "id": "ed2a6c63",
   "metadata": {},
   "source": [
    "## Step 1: Crear autenticación en Vault"
   ]
  },
  {
   "cell_type": "code",
   "execution_count": 3,
   "id": "aa169ac8",
   "metadata": {},
   "outputs": [
    {
     "name": "stdout",
     "output_type": "stream",
     "text": [
      "Success! Enabled userpass auth method at: userpass/\n",
      "Success! Uploaded policy: oidc-auth\n",
      "Success! Data written to: auth/userpass/users/end-user\n"
     ]
    }
   ],
   "source": [
    "%%bash\n",
    "vault auth enable userpass\n",
    "\n",
    "vault policy write oidc-auth - << EOF\n",
    "path \"identity/oidc/provider/my-provider/authorize\" {\n",
    "capabilities = [ \"read\" ]\n",
    "}\n",
    "EOF\n",
    "\n",
    "vault write auth/userpass/users/end-user \\\n",
    "    password=\"password\" \\\n",
    "    token_policies=\"oidc-auth\" \\\n",
    "    token_ttl=\"1h\"\n",
    "\n",
    "\n"
   ]
  },
  {
   "cell_type": "code",
   "execution_count": 4,
   "id": "36c537e8",
   "metadata": {},
   "outputs": [
    {
     "name": "stdout",
     "output_type": "stream",
     "text": [
      "Key        Value\n",
      "---        -----\n",
      "aliases    <nil>\n",
      "id         08f453c3-2cf4-989c-2a69-61aea34696f0\n",
      "name       end-user\n",
      "Key     Value\n",
      "---     -----\n",
      "id      ff1d86ed-fec1-e6c3-2be1-d4391f88e439\n",
      "name    engineering\n",
      "Key             Value\n",
      "---             -----\n",
      "canonical_id    08f453c3-2cf4-989c-2a69-61aea34696f0\n",
      "id              9b48ec6f-1368-81ac-c059-ac7a32e2aa2e\n"
     ]
    }
   ],
   "source": [
    "%%bash\n",
    "vault write identity/entity \\\n",
    "    name=\"end-user\" \\\n",
    "    metadata=\"email=vault@hashicorp.com\" \\\n",
    "    metadata=\"phone_number=123-456-7890\" \\\n",
    "    disabled=false\n",
    "\n",
    "ENTITY_ID=$(vault read -field=id identity/entity/name/end-user)\n",
    "\n",
    "vault write identity/group \\\n",
    "    name=\"engineering\" \\\n",
    "    member_entity_ids=\"$ENTITY_ID\"\n",
    "\n",
    "GROUP_ID=$(vault read -field=id identity/group/name/engineering)\n",
    "\n",
    "USERPASS_ACCESSOR=$(vault auth list -detailed -format json | jq -r '.[\"userpass/\"].accessor')\n",
    "\n",
    "vault write identity/entity-alias \\\n",
    "    name=\"end-user\" \\\n",
    "    canonical_id=\"$ENTITY_ID\" \\\n",
    "    mount_accessor=\"$USERPASS_ACCESSOR\"\n"
   ]
  },
  {
   "cell_type": "code",
   "execution_count": 6,
   "id": "d4e212e4",
   "metadata": {},
   "outputs": [
    {
     "name": "stdout",
     "output_type": "stream",
     "text": [
      "Success! Data written to: identity/oidc/assignment/my-assignment\n",
      "Success! Data written to: identity/oidc/key/my-key\n",
      "Success! Data written to: identity/oidc/client/boundary\n"
     ]
    },
    {
     "name": "stderr",
     "output_type": "stream",
     "text": [
      "bash: line 28: warning: command substitution: 1 unterminated here-document\n",
      "bash: line 29: warning: here-document at line 28 delimited by end-of-file (wanted `echo')\n",
      "base64: invalid argument {\n",
      "Usage:\tbase64 [-hDd] [-b num] [-i in_file] [-o out_file]\n",
      "  -h, --help     display this message\n",
      "  -Dd, --decode   decodes input\n",
      "  -b, --break    break encoded string into num character lines\n",
      "  -i, --input    input file (default: \"-\" for stdin)\n",
      "  -o, --output   output file (default: \"-\" for stdout)\n"
     ]
    },
    {
     "name": "stdout",
     "output_type": "stream",
     "text": [
      "Success! Data written to: identity/oidc/scope/user\n"
     ]
    }
   ],
   "source": [
    "%%bash\n",
    "vault write identity/oidc/assignment/my-assignment \\\n",
    "    entity_ids=\"${ENTITY_ID}\" \\\n",
    "    group_ids=\"${GROUP_ID}\"\n",
    "\n",
    "vault write identity/oidc/key/my-key \\\n",
    "    allowed_client_ids=\"*\" \\\n",
    "    verification_ttl=\"2h\" \\\n",
    "    rotation_period=\"1h\" \\\n",
    "    algorithm=\"RS256\"\n",
    "\n",
    "vault write identity/oidc/client/boundary \\\n",
    "    redirect_uris=\"http://127.0.0.1:9200/v1/auth-methods/oidc:authenticate:callback\" \\\n",
    "    assignments=\"my-assignment\" \\\n",
    "    key=\"my-key\" \\\n",
    "    id_token_ttl=\"30m\" \\\n",
    "    access_token_ttl=\"1h\"\n",
    "\n",
    "\n",
    "\n"
   ]
  },
  {
   "cell_type": "code",
   "execution_count": 9,
   "id": "397e87e0",
   "metadata": {},
   "outputs": [
    {
     "name": "stdout",
     "output_type": "stream",
     "text": [
      "Success! Data written to: identity/oidc/scope/user\n"
     ]
    }
   ],
   "source": [
    "%%bash \n",
    "export CLIENT_ID=$(vault read -field=client_id identity/oidc/client/boundary)\n",
    "export USER_SCOPE_TEMPLATE='{\n",
    "    \"username\": {{identity.entity.name}},\n",
    "    \"contact\": {\n",
    "        \"email\": {{identity.entity.metadata.email}},\n",
    "        \"phone_number\": {{identity.entity.metadata.phone_number}}\n",
    "    }\n",
    "}'\n",
    "vault write identity/oidc/scope/user \\\n",
    "    description=\"The user scope provides claims using Vault identity entity metadata\" \\\n",
    "    template=\"$(echo -n ${USER_SCOPE_TEMPLATE} | base64)\"\n",
    "\n"
   ]
  },
  {
   "cell_type": "code",
   "execution_count": 10,
   "id": "89964afa",
   "metadata": {},
   "outputs": [
    {
     "name": "stdout",
     "output_type": "stream",
     "text": [
      "Success! Data written to: identity/oidc/scope/groups\n"
     ]
    },
    {
     "name": "stderr",
     "output_type": "stream",
     "text": [
      "WARNING! The following warnings were returned from Vault:\n",
      "\n",
      "  * Found scope templates with conflicting top-level keys: conflict \"username\"\n",
      "  in scopes \"user\", \"groups\". This may result in an error if the scopes are\n",
      "  requested in an OIDC Authentication Request.\n",
      "\n",
      "  * Found scope templates with conflicting top-level keys: conflict \"contact\"\n",
      "  in scopes \"user\", \"groups\". This may result in an error if the scopes are\n",
      "  requested in an OIDC Authentication Request.\n",
      "\n"
     ]
    }
   ],
   "source": [
    "%%bash\n",
    "GROUPS_SCOPE_TEMPLATE='{\n",
    "    \"username\": {{identity.entity.name}},\n",
    "    \"contact\": {\n",
    "        \"email\": {{identity.entity.metadata.email}},\n",
    "        \"phone_number\": {{identity.entity.metadata.phone_number}}\n",
    "    }\n",
    "}'\n",
    "\n",
    "vault write identity/oidc/scope/groups \\\n",
    "    description=\"The groups scope provides the groups claim using Vault group membership\" \\\n",
    "    template=\"$(echo -n ${GROUPS_SCOPE_TEMPLATE} | base64)\"\n",
    "\n",
    "export CLIENT_ID=$(vault read -field=client_id identity/oidc/client/boundary)\n",
    "\n",
    "vault write identity/oidc/provider/my-provider \\\n",
    "    allowed_client_ids=\"${CLIENT_ID}\" \\\n",
    "    scopes_supported=\"groups,user\"\n"
   ]
  },
  {
   "cell_type": "code",
   "execution_count": 12,
   "id": "fb878fc9",
   "metadata": {},
   "outputs": [
    {
     "name": "stdout",
     "output_type": "stream",
     "text": [
      "{\n",
      "  \"keys\": [\n",
      "    {\n",
      "      \"use\": \"sig\",\n",
      "      \"kty\": \"RSA\",\n",
      "      \"kid\": \"2d7df1ca-45bd-24ab-c966-5eeb4683f18c\",\n",
      "      \"alg\": \"RS256\",\n",
      "      \"n\": \"r3Lb_bZ7d-JNhyjzxt169K6YA_74JyI1tcLwk2lKIl2Cenn2Lqwk5XU7fOph7V3h1UFPQJYKkNfbQex-DMg8AYyTFue7080PIPvnsEnNQoQUC39VkKA662oL8Vf2nf2eDQ-_5ygimkvvAhDFuYEeN03xMRzHRz3BgpeRGt1aS0EXanYL3oiDuXa820igsuv2OhKOpl6a-kjDdD7eYcAlWxjXBBxWr0saH3EDMBiHGEwkzJKo6a4CuYRjyEvHycYK8vkZZyrHPECJEeJHjgJglQm6KivUYDlIY5QFKZPVEVMTgC1xmAvWZP9WOt0-vvyRy40xFz9xpyLPaByAT2XrFQ\",\n",
      "      \"e\": \"AQAB\"\n",
      "    },\n",
      "    {\n",
      "      \"use\": \"sig\",\n",
      "      \"kty\": \"RSA\",\n",
      "      \"kid\": \"6eba6f9f-9f33-ed42-1adc-91e7305c4cc5\",\n",
      "      \"alg\": \"RS256\",\n",
      "      \"n\": \"oWLiqzQrRh2R6yrhgN_wH4jb2TY1D-_yhcye1M0RnmeOVUtHEbbvQ59kDzdZ_XsRADuLe1XgEVULv9q8J5PbieOMKnQsALTqVABLx9MyJKRhDNIZg7Db9Ocvv_D3Ib5kN6isFCkv8QMljIAl6YMzvTrgc1bPPZjqLcxZ3-QS_A_7CxIdIBYGe4FR6iDM1FHVB_i162J5Bkaz9cJMn7APVzxaYvU8_gNvWYtrK-Wxei0rNs0IPuJU1kkdjXZUpccchxMCjH0R9mcsHwQBE7w_tuJCc03u0Ap2ATtR2k_qvcZomDIwES458BXHy6VwHc0HymO1OMFdHmU-OwRYyd4JRw\",\n",
      "      \"e\": \"AQAB\"\n",
      "    }\n",
      "  ]\n",
      "}\n"
     ]
    }
   ],
   "source": [
    "%%bash\n",
    "curl -s --header \"X-Vault-Token: $VAULT_TOKEN\" --request GET \\\n",
    "    --header \"X-Vault-Namespace: $VAULT_NAMESPACE\" \\\n",
    "    $VAULT_ADDR/v1/identity/oidc/provider/my-provider/.well-known/keys | jq\n"
   ]
  },
  {
   "cell_type": "code",
   "execution_count": 14,
   "id": "ca8dc929",
   "metadata": {},
   "outputs": [
    {
     "name": "stdout",
     "output_type": "stream",
     "text": [
      "{\n",
      "  \"keys\": [\n",
      "    {\n",
      "      \"use\": \"sig\",\n",
      "      \"kty\": \"RSA\",\n",
      "      \"kid\": \"2d7df1ca-45bd-24ab-c966-5eeb4683f18c\",\n",
      "      \"alg\": \"RS256\",\n",
      "      \"n\": \"r3Lb_bZ7d-JNhyjzxt169K6YA_74JyI1tcLwk2lKIl2Cenn2Lqwk5XU7fOph7V3h1UFPQJYKkNfbQex-DMg8AYyTFue7080PIPvnsEnNQoQUC39VkKA662oL8Vf2nf2eDQ-_5ygimkvvAhDFuYEeN03xMRzHRz3BgpeRGt1aS0EXanYL3oiDuXa820igsuv2OhKOpl6a-kjDdD7eYcAlWxjXBBxWr0saH3EDMBiHGEwkzJKo6a4CuYRjyEvHycYK8vkZZyrHPECJEeJHjgJglQm6KivUYDlIY5QFKZPVEVMTgC1xmAvWZP9WOt0-vvyRy40xFz9xpyLPaByAT2XrFQ\",\n",
      "      \"e\": \"AQAB\"\n",
      "    },\n",
      "    {\n",
      "      \"use\": \"sig\",\n",
      "      \"kty\": \"RSA\",\n",
      "      \"kid\": \"6eba6f9f-9f33-ed42-1adc-91e7305c4cc5\",\n",
      "      \"alg\": \"RS256\",\n",
      "      \"n\": \"oWLiqzQrRh2R6yrhgN_wH4jb2TY1D-_yhcye1M0RnmeOVUtHEbbvQ59kDzdZ_XsRADuLe1XgEVULv9q8J5PbieOMKnQsALTqVABLx9MyJKRhDNIZg7Db9Ocvv_D3Ib5kN6isFCkv8QMljIAl6YMzvTrgc1bPPZjqLcxZ3-QS_A_7CxIdIBYGe4FR6iDM1FHVB_i162J5Bkaz9cJMn7APVzxaYvU8_gNvWYtrK-Wxei0rNs0IPuJU1kkdjXZUpccchxMCjH0R9mcsHwQBE7w_tuJCc03u0Ap2ATtR2k_qvcZomDIwES458BXHy6VwHc0HymO1OMFdHmU-OwRYyd4JRw\",\n",
      "      \"e\": \"AQAB\"\n",
      "    }\n",
      "  ]\n",
      "}\n"
     ]
    }
   ],
   "source": [
    "%%bash\n",
    "curl -s --header \"X-Vault-Token: $VAULT_TOKEN\" --request GET \\\n",
    "    --header \"X-Vault-Namespace: $VAULT_NAMESPACE\" \\\n",
    "    $VAULT_ADDR/v1/identity/oidc/provider/my-provider/.well-known/keys | jq"
   ]
  },
  {
   "cell_type": "code",
   "execution_count": 17,
   "id": "8a8eb525",
   "metadata": {},
   "outputs": [
    {
     "name": "stderr",
     "output_type": "stream",
     "text": [
      "Password flag must be used with env:// or file:// syntax or left empty for an interactive prompt\n"
     ]
    },
    {
     "ename": "CalledProcessError",
     "evalue": "Command 'b'boundary authenticate password -login-name admin -password SuperSecret123!\\n'' returned non-zero exit status 3.",
     "output_type": "error",
     "traceback": [
      "\u001b[0;31m---------------------------------------------------------------------------\u001b[0m",
      "\u001b[0;31mCalledProcessError\u001b[0m                        Traceback (most recent call last)",
      "Cell \u001b[0;32mIn[17], line 1\u001b[0m\n\u001b[0;32m----> 1\u001b[0m get_ipython()\u001b[39m.\u001b[39;49mrun_cell_magic(\u001b[39m'\u001b[39;49m\u001b[39mbash\u001b[39;49m\u001b[39m'\u001b[39;49m, \u001b[39m'\u001b[39;49m\u001b[39m'\u001b[39;49m, \u001b[39m'\u001b[39;49m\u001b[39mboundary authenticate password -login-name admin -password SuperSecret123!\u001b[39;49m\u001b[39m\\n\u001b[39;49;00m\u001b[39m'\u001b[39;49m)\n",
      "File \u001b[0;32m~/Library/Python/3.9/lib/python/site-packages/IPython/core/interactiveshell.py:2430\u001b[0m, in \u001b[0;36mInteractiveShell.run_cell_magic\u001b[0;34m(self, magic_name, line, cell)\u001b[0m\n\u001b[1;32m   2428\u001b[0m \u001b[39mwith\u001b[39;00m \u001b[39mself\u001b[39m\u001b[39m.\u001b[39mbuiltin_trap:\n\u001b[1;32m   2429\u001b[0m     args \u001b[39m=\u001b[39m (magic_arg_s, cell)\n\u001b[0;32m-> 2430\u001b[0m     result \u001b[39m=\u001b[39m fn(\u001b[39m*\u001b[39;49margs, \u001b[39m*\u001b[39;49m\u001b[39m*\u001b[39;49mkwargs)\n\u001b[1;32m   2432\u001b[0m \u001b[39m# The code below prevents the output from being displayed\u001b[39;00m\n\u001b[1;32m   2433\u001b[0m \u001b[39m# when using magics with decodator @output_can_be_silenced\u001b[39;00m\n\u001b[1;32m   2434\u001b[0m \u001b[39m# when the last Python token in the expression is a ';'.\u001b[39;00m\n\u001b[1;32m   2435\u001b[0m \u001b[39mif\u001b[39;00m \u001b[39mgetattr\u001b[39m(fn, magic\u001b[39m.\u001b[39mMAGIC_OUTPUT_CAN_BE_SILENCED, \u001b[39mFalse\u001b[39;00m):\n",
      "File \u001b[0;32m~/Library/Python/3.9/lib/python/site-packages/IPython/core/magics/script.py:153\u001b[0m, in \u001b[0;36mScriptMagics._make_script_magic.<locals>.named_script_magic\u001b[0;34m(line, cell)\u001b[0m\n\u001b[1;32m    151\u001b[0m \u001b[39melse\u001b[39;00m:\n\u001b[1;32m    152\u001b[0m     line \u001b[39m=\u001b[39m script\n\u001b[0;32m--> 153\u001b[0m \u001b[39mreturn\u001b[39;00m \u001b[39mself\u001b[39;49m\u001b[39m.\u001b[39;49mshebang(line, cell)\n",
      "File \u001b[0;32m~/Library/Python/3.9/lib/python/site-packages/IPython/core/magics/script.py:305\u001b[0m, in \u001b[0;36mScriptMagics.shebang\u001b[0;34m(self, line, cell)\u001b[0m\n\u001b[1;32m    300\u001b[0m \u001b[39mif\u001b[39;00m args\u001b[39m.\u001b[39mraise_error \u001b[39mand\u001b[39;00m p\u001b[39m.\u001b[39mreturncode \u001b[39m!=\u001b[39m \u001b[39m0\u001b[39m:\n\u001b[1;32m    301\u001b[0m     \u001b[39m# If we get here and p.returncode is still None, we must have\u001b[39;00m\n\u001b[1;32m    302\u001b[0m     \u001b[39m# killed it but not yet seen its return code. We don't wait for it,\u001b[39;00m\n\u001b[1;32m    303\u001b[0m     \u001b[39m# in case it's stuck in uninterruptible sleep. -9 = SIGKILL\u001b[39;00m\n\u001b[1;32m    304\u001b[0m     rc \u001b[39m=\u001b[39m p\u001b[39m.\u001b[39mreturncode \u001b[39mor\u001b[39;00m \u001b[39m-\u001b[39m\u001b[39m9\u001b[39m\n\u001b[0;32m--> 305\u001b[0m     \u001b[39mraise\u001b[39;00m CalledProcessError(rc, cell)\n",
      "\u001b[0;31mCalledProcessError\u001b[0m: Command 'b'boundary authenticate password -login-name admin -password SuperSecret123!\\n'' returned non-zero exit status 3."
     ]
    }
   ],
   "source": [
    "%%bash\n",
    "boundary authenticate\n",
    "ISSUER=$(curl --header \"X-Vault-Token: $VAULT_TOKEN\" --request GET \\\n",
    "    --header \"X-Vault-Namespace: $VAULT_NAMESPACE\" \\\n",
    "    $VAULT_ADDR/v1/identity/oidc/provider/my-provider/.well-known/openid-configuration | jq -r .issuer)\n",
    "\n",
    "CLIENT_SECRET=$(vault read -field=client_secret identity/oidc/client/boundary)\n",
    "\n",
    "boundary auth-methods create oidc \\\n",
    "    -issuer \"${ISSUER}\" \\\n",
    "    -client-id \"${CLIENT_ID}\" \\\n",
    "    -client-secret \"${CLIENT_SECRET}\" \\\n",
    "    -signing-algorithm RS256 \\\n",
    "    -api-url-prefix \"http://127.0.0.1:9200\" \\\n",
    "    -claims-scopes \"groups\" \\\n",
    "    -claims-scopes \"user\" \\\n",
    "    -max-age 20 \\\n",
    "    -name \"Vault OIDC Provider\"\n",
    "\n",
    "AUTH_METHOD_ID=\"$(boundary auth-methods list -format json | jq -r '.items[] | select(.name == \"Vault OIDC Provider\") | .id')\"\n",
    "\n",
    "boundary auth-methods change-state oidc \\\n",
    "    -id \"${AUTH_METHOD_ID}\" \\\n",
    "    -state active-public\n",
    "\n",
    "boundary scopes update \\\n",
    "    -primary-auth-method-id \"${AUTH_METHOD_ID}\" \\\n",
    "    -id global\n"
   ]
  },
  {
   "attachments": {},
   "cell_type": "markdown",
   "id": "d03896a8",
   "metadata": {},
   "source": [
    "## Step 3: Create role -> https://developer.hashicorp.com/vault/tutorials/secrets-management/pki-engine#step-3-create-a-role"
   ]
  },
  {
   "cell_type": "code",
   "execution_count": null,
   "id": "ee3d5601",
   "metadata": {},
   "outputs": [],
   "source": [
    "%%bash\n",
    "# Create role that allow certificates to be signed for domain example.com, internal.com, internal.domain\n",
    "vault write pki_int/roles/example-dot-com \\\n",
    "     issuer_ref=\"$(vault read -field=default pki_int/config/issuers)\" \\\n",
    "     allowed_domains=\"example.com\",\"test.com\" \\\n",
    "     allow_subdomains=true \\\n",
    "     allow_glob_domains=true \\\n",
    "     allow_wildcard_certificates=true \\\n",
    "     allow_ip_sans=true \\\n",
    "     max_ttl=\"24h\" \\\n",
    "     ttl=\"1h\" \\\n",
    "     country=\"ES\" locality=\"Zarautz\" province=\"Gipuzkoa\" organization=\"Hashi\" ou=\"SE\""
   ]
  },
  {
   "attachments": {},
   "cell_type": "markdown",
   "id": "836726af",
   "metadata": {},
   "source": [
    "## Step 4: Requests certificates"
   ]
  },
  {
   "cell_type": "code",
   "execution_count": null,
   "id": "7ab949f3",
   "metadata": {},
   "outputs": [],
   "source": [
    "%%bash\n",
    "#Generate Certificates\n",
    "#Using Vault CLI\n",
    "vault write pki_int/issue/example-dot-com common_name=\"test15.example.com\" ttl=\"10m\" "
   ]
  },
  {
   "cell_type": "code",
   "execution_count": null,
   "id": "99f4ac72",
   "metadata": {},
   "outputs": [],
   "source": [
    "%%bash\n",
    "# Using CURL\n",
    "# See https://developer.hashicorp.com/vault/api-docs/secret/pki#generate-certificate-and-key\n",
    "# Example with SANs\n",
    "curl -k --header \"X-Vault-Token: $VAULT_TOKEN\" -H \"X-Vault-Namespace: admin\"\\\n",
    "    --request PUT --silent\\\n",
    "    --data '{\"common_name\": \"test2222.example.com\", \"ttl\": \"2h\"}' \\\n",
    "    $VAULT_ADDR/v1/pki_int/issue/example-dot-com | jq"
   ]
  },
  {
   "attachments": {},
   "cell_type": "markdown",
   "id": "c74df509",
   "metadata": {},
   "source": [
    "# Examples"
   ]
  },
  {
   "cell_type": "code",
   "execution_count": null,
   "id": "5acfcb63",
   "metadata": {},
   "outputs": [],
   "source": [
    "%%bash\n",
    "export CERT_NAME=san.example.com\n",
    "\n",
    "# Using CURL\n",
    "curl -k --header \"X-Vault-Token: $VAULT_TOKEN\" -H \"X-Vault-Namespace: admin\"\\\n",
    "    --request POST --silent \\\n",
    "    --data '{\"common_name\": \"'\"$CERT_NAME\"'\", \"ttl\": \"1m\"}' \\\n",
    "    $VAULT_ADDR/v1/pki_int/issue/example-dot-com > ${WORKDIR}/mycert.json\n",
    "\n",
    "cat ${WORKDIR}/mycert.json | jq -r .data.certificate | openssl x509 -in /dev/stdin -text -noout"
   ]
  },
  {
   "cell_type": "code",
   "execution_count": null,
   "id": "a1eba117",
   "metadata": {},
   "outputs": [],
   "source": [
    "%%bash\n",
    "export CERT_NAME=\"test107.test.com\"\n",
    "\n",
    "#Using CURL\n",
    "curl -k --header \"X-Vault-Token: $VAULT_TOKEN\" -H \"X-Vault-Namespace: admin\"\\\n",
    "    --request POST --silent\\\n",
    "    --data '{\"common_name\": \"'\"$CERT_NAME\"'\", \"ttl\": \"1m\"}' \\\n",
    "    $VAULT_ADDR/v1/pki_int/issue/example-dot-com > ${WORKDIR}/mycert.json\n",
    "\n",
    "cat ${WORKDIR}/mycert.json | jq -r .data.certificate > ${WORKDIR}/mycert_leaf.pem\n",
    "cat ${WORKDIR}/mycert.json | jq -r .data.private_key > ${WORKDIR}/mycert_key.pem\n",
    "openssl x509 -in  ${WORKDIR}/mycert_leaf.pem -text -noout"
   ]
  },
  {
   "attachments": {},
   "cell_type": "markdown",
   "id": "b1570693",
   "metadata": {},
   "source": [
    "## Read Certificates"
   ]
  },
  {
   "cell_type": "code",
   "execution_count": null,
   "id": "917a77f1",
   "metadata": {},
   "outputs": [],
   "source": [
    "%%bash\n",
    "# List Certificates\n",
    "\n",
    "curl -k \\\n",
    "    --header \"X-Vault-Token: $VAULT_TOKEN\" -H \"X-Vault-Namespace: admin\" \\\n",
    "    --request LIST --silent\\\n",
    "    $VAULT_ADDR/v1/pki_int/certs | jq -r .data.keys"
   ]
  },
  {
   "cell_type": "code",
   "execution_count": null,
   "id": "fdb5bd4b",
   "metadata": {},
   "outputs": [],
   "source": [
    "%%bash\n",
    "export SERIAL=$(curl -k --silent\\\n",
    "                    --header \"X-Vault-Token: $VAULT_TOKEN\" -H \"X-Vault-Namespace: admin\"\\\n",
    "                    --request LIST \\\n",
    "                    $VAULT_ADDR/v1/pki_int/certs | jq -r .data.keys[0])\n",
    "    \n",
    "# Read Details about a certificate based on serial number\n",
    "curl -k --silent\\\n",
    "    --header \"X-Vault-Token: $VAULT_TOKEN\" -H \"X-Vault-Namespace: admin\"\\\n",
    "    --request GET \\\n",
    "    $VAULT_ADDR/v1/pki_int/cert/$SERIAL | jq -r .data.certificate > ${WORKDIR}/temp.pem\n",
    "    \n",
    "openssl x509 -in  ${WORKDIR}/temp.pem -text -noout "
   ]
  },
  {
   "cell_type": "code",
   "execution_count": null,
   "id": "6c440e58",
   "metadata": {},
   "outputs": [],
   "source": [
    "%%bash\n",
    "# Revoke certificate based on serial number\n",
    "# https://developer.hashicorp.com/vault/api-docs/secret/pki#revoke-certificate\n",
    "export SERIAL=$(curl -k --silent\\\n",
    "                    --header \"X-Vault-Token: $VAULT_TOKEN\" -H \"X-Vault-Namespace: admin\"\\\n",
    "                    --request LIST \\\n",
    "                    $VAULT_ADDR/v1/pki_int/certs | jq -r .data.keys[3])\n",
    "    \n",
    "curl -k --silent --header \"X-Vault-Token: $VAULT_TOKEN\" -H \"X-Vault-Namespace: admin\"\\\n",
    "    --request POST \\\n",
    "    --data '{\"serial_number\": \"'\"$SERIAL\"'\"}' \\\n",
    "    $VAULT_ADDR/v1/pki_int/revoke | jq\n",
    "\n",
    "    "
   ]
  },
  {
   "cell_type": "code",
   "execution_count": null,
   "id": "3477cc97",
   "metadata": {},
   "outputs": [],
   "source": [
    "%%bash\n",
    "export SERIAL2=$(curl -k --silent\\\n",
    "                    --header \"X-Vault-Token: $VAULT_TOKEN\" -H \"X-Vault-Namespace: admin\"\\\n",
    "                    --request LIST \\\n",
    "                    $VAULT_ADDR/v1/pki_int/certs | jq -r .data.keys[1])\n",
    "\n",
    "vault write pki_int/revoke serial_number=$SERIAL2\n",
    "\n"
   ]
  },
  {
   "cell_type": "code",
   "execution_count": null,
   "id": "f2b99a90",
   "metadata": {},
   "outputs": [],
   "source": [
    "%%bash\n",
    "curl --silent -H \"X-Vault-Namespace: admin\" $VAULT_ADDR/v1/pki_int/crl -o $WORKDIR/out.crl\n",
    "openssl crl -inform DER -text -noout -in $WORKDIR/out.crl\n",
    "\n"
   ]
  },
  {
   "cell_type": "code",
   "execution_count": null,
   "id": "36ba72d8",
   "metadata": {},
   "outputs": [],
   "source": [
    "%%bash\n",
    "# List Certificates\n",
    "echo \"Todos los certificados\"\n",
    "curl -k \\\n",
    "    --header \"X-Vault-Token: $VAULT_TOKEN\" -H \"X-Vault-Namespace: admin\" \\\n",
    "    --request LIST --silent\\\n",
    "    $VAULT_ADDR/v1/pki_int/certs | jq -r .data.keys\n",
    "\n"
   ]
  },
  {
   "cell_type": "code",
   "execution_count": null,
   "id": "83ccd0f4",
   "metadata": {},
   "outputs": [],
   "source": [
    "%%bash\n",
    "# https://developer.hashicorp.com/vault/api-docs/secret/pki#tidy\n",
    "vault write pki_int/tidy tidy_cert_store=true tidy_revoked_certs=true safety_buffer=1m\n",
    "\n",
    "# Auto Tidy\n",
    "vault write pki_int/config/auto-tidy tidy_cert_store=true tidy_revoked_certs=true safety_buffer=60m"
   ]
  },
  {
   "cell_type": "code",
   "execution_count": null,
   "id": "1c6472eb",
   "metadata": {},
   "outputs": [],
   "source": [
    "%%bash\n",
    "# List Certificates\n",
    "echo \"Todos los certificados\"\n",
    "curl -k \\\n",
    "    --header \"X-Vault-Token: $VAULT_TOKEN\" -H \"X-Vault-Namespace: admin\" \\\n",
    "    --request LIST --silent\\\n",
    "    $VAULT_ADDR/v1/pki_int/certs | jq -r .data.keys\n",
    "\n"
   ]
  },
  {
   "cell_type": "code",
   "execution_count": null,
   "id": "ae0709db",
   "metadata": {},
   "outputs": [],
   "source": [
    "%%bash\n",
    "vault auth enable userpass\n",
    "vault write auth/userpass/users/jose \\\n",
    "    password=jose \\\n",
    "    policies=admins\n",
    "\n",
    "cat > $WORKDIR/admins.hcl <<EOF\n",
    "# Manage namespaces\n",
    "\n",
    "# Enable and manage secrets engines\n",
    "path \"sys/mounts/*\" {\n",
    "   capabilities = [\"list\"]\n",
    "}\n",
    "\n",
    "# List available secrets engines\n",
    "path \"sys/mounts\" {\n",
    "  capabilities = [ \"read\", \"list\" ]\n",
    "}\n",
    "\n",
    "\n",
    "# Manage secrets at 'pki_int'\n",
    "path \"/pki_int/*\" {\n",
    "   capabilities = [\"read\", \"list\"]\n",
    "}\n",
    "\n",
    "path \"pki_int/issue/example-dot-com\" {\n",
    "   capabilities = [\"update\"]\n",
    "}\n",
    "\n",
    "EOF\n",
    "\n",
    "# Apply policy to users part of LDAP group ops\n",
    "vault policy write admins $WORKDIR/admins.hcl\n"
   ]
  },
  {
   "cell_type": "code",
   "execution_count": null,
   "id": "52e1a8b9",
   "metadata": {},
   "outputs": [],
   "source": [
    "%%bash\n",
    "cat > $WORKDIR/admins.hcl <<EOF\n",
    "# Manage namespaces\n",
    "\n",
    "# Enable and manage secrets engines\n",
    "path \"sys/mounts/*\" {\n",
    "   capabilities = [\"list\"]\n",
    "}\n",
    "\n",
    "# List available secrets engines\n",
    "path \"sys/mounts\" {\n",
    "  capabilities = [ \"read\", \"list\" ]\n",
    "}\n",
    "\n",
    "\n",
    "# Manage secrets at 'pki_int'\n",
    "path \"/pki_int/*\" {\n",
    "   capabilities = [\"read\", \"list\"]\n",
    "}\n",
    "\n",
    "path \"pki_int/issue/example-dot-com\" {\n",
    "   capabilities = [\"update\"]\n",
    "   \n",
    "   control_group = {\n",
    "    factor \"authorizer\" {\n",
    "      identity {\n",
    "        group_names = [ \"acct_manager\" ]\n",
    "        approvals = 1\n",
    "      }\n",
    "    }\n",
    "}\n",
    "}\n",
    "EOF\n",
    "\n",
    "# Apply policy to users part of LDAP group ops\n",
    "vault policy write admins $WORKDIR/admins.hcl\n",
    "\n",
    "\n",
    "cat > $WORKDIR/acct_manager.hcl <<EOF\n",
    "# To approve the request\n",
    "path \"sys/control-group/authorize\" {\n",
    "    capabilities = [\"create\", \"update\"]\n",
    "}\n",
    "\n",
    "# To check control group request status\n",
    "path \"sys/control-group/request\" {\n",
    "    capabilities = [\"create\", \"update\"]\n",
    "}\n",
    "EOF\n",
    "\n",
    "vault policy write acct_manager $WORKDIR/acct_manager.hcl\n",
    "\n",
    "vault write auth/userpass/users/ellen password=\"ellen\"\n",
    "\n"
   ]
  },
  {
   "cell_type": "code",
   "execution_count": null,
   "id": "26c6eed7",
   "metadata": {},
   "outputs": [],
   "source": [
    "%%bash\n",
    "vault write -format=json identity/entity name=\"Ellen Wright\" \\\n",
    "        policies=\"default\" \\\n",
    "        metadata=team=\"Acct Controller\" \\\n",
    "        | jq -r \".data.id\" > entity_id_ellen.txt\n",
    "\n"
   ]
  },
  {
   "cell_type": "code",
   "execution_count": null,
   "id": "93bca244",
   "metadata": {},
   "outputs": [],
   "source": [
    "%%bash\n",
    "\n",
    "vault auth list -format=json | jq -r '.[\"userpass/\"].accessor' > accessor.txt  \n",
    "\n",
    "vault write identity/entity-alias name=\"ellen\" \\\n",
    "      canonical_id=$(cat entity_id_ellen.txt) \\\n",
    "      mount_accessor=$(cat accessor.txt)\n",
    "\n",
    "vault write identity/group name=\"acct_manager\" \\\n",
    "      policies=\"acct_manager\" \\\n",
    "      member_entity_ids=$(cat entity_id_ellen.txt)\n"
   ]
  },
  {
   "cell_type": "raw",
   "id": "ed6c924e",
   "metadata": {},
   "source": [
    "## In a terminal\n",
    "export VAULT_ADDR=https://learn-hcp-vault-cluster-public-vault-d9395c46.b0090cbb.z1.hashicorp.cloud:8200\n",
    "vault login -method=userpass -namespace=admin username=jose\n",
    "\n",
    "vault write -namespace=admin pki_int/issue/example-dot-com common_name=\"test-controlgroups.example.com\" ttl=\"10m\" "
   ]
  },
  {
   "cell_type": "raw",
   "id": "9ab1b94a",
   "metadata": {},
   "source": [
    "## Via CLI or UI with user Ellen approve wrapping_accessor"
   ]
  },
  {
   "cell_type": "raw",
   "id": "72992c1a",
   "metadata": {},
   "source": [
    "## Via CLI or UI user jose unwrap token\n",
    "vault unwrap -format=json $WRAPPING_TOKEN | jq -r ."
   ]
  },
  {
   "attachments": {},
   "cell_type": "markdown",
   "id": "5cb5c6ac",
   "metadata": {},
   "source": [
    "## Another example using https://developer.hashicorp.com/vault/tutorials/secrets-management/pki-engine-external-ca"
   ]
  },
  {
   "attachments": {
    "image.png": {
     "image/png": "[encoded data removed]"
    }
   },
   "cell_type": "markdown",
   "id": "ff79192e",
   "metadata": {},
   "source": [
    "![image.png](attachment:image.png)"
   ]
  },
  {
   "cell_type": "raw",
   "id": "abf207eb",
   "metadata": {},
   "source": [
    "## In a terminal\n",
    "export WORKDIR=/tmp/vault\n",
    "cd $WORKDIR\n",
    "certstrap init \\\n",
    "     --organization \"Test\" \\\n",
    "     --organizational-unit \"Test Org\" \\\n",
    "     --country \"US\" \\\n",
    "     --province \"MD\" \\\n",
    "     --locality \"Bethesda\" \\\n",
    "     --common-name \"Testing Root\""
   ]
  },
  {
   "cell_type": "code",
   "execution_count": null,
   "id": "69ab6e8f",
   "metadata": {},
   "outputs": [],
   "source": [
    "%%bash\n",
    "cat > $WORKDIR/main.tf <<EOF\n",
    "provider \"vault\" {\n",
    "}\n",
    "\n",
    "locals {\n",
    " default_3y_in_sec   = 94608000\n",
    " default_1y_in_sec   = 31536000\n",
    " default_1hr_in_sec = 3600\n",
    "}\n",
    "EOF\n",
    "\n",
    "cat > $WORKDIR/test_org_ica1.tf << EOF\n",
    "resource \"vault_mount\" \"test_org_v1_ica1_v1\" {\n",
    " path                      = \"test-org/v1/ica1/v1\"\n",
    " type                      = \"pki\"\n",
    " description               = \"PKI engine hosting intermediate CA1 v1 for test org\"\n",
    " default_lease_ttl_seconds = local.default_1hr_in_sec\n",
    " max_lease_ttl_seconds     = local.default_3y_in_sec\n",
    "}\n",
    "\n",
    "resource \"vault_pki_secret_backend_intermediate_cert_request\" \"test_org_v1_ica1_v1\" {\n",
    " depends_on   = [vault_mount.test_org_v1_ica1_v1]\n",
    " backend      = vault_mount.test_org_v1_ica1_v1.path\n",
    " type         = \"internal\"\n",
    " common_name  = \"Intermediate CA1 v1 \"\n",
    " key_type     = \"rsa\"\n",
    " key_bits     = \"2048\"\n",
    " ou           = \"test org\"\n",
    " organization = \"test\"\n",
    " country      = \"US\"\n",
    " locality     = \"Bethesda\"\n",
    " province     = \"MD\"\n",
    "}\n",
    "EOF\n",
    "\n",
    "cd $WORKDIR\n",
    "terraform init\n",
    "terraform apply -auto-approve\n",
    "\n",
    "mkdir csr\n",
    "terraform show -json | jq '.values[\"root_module\"][\"resources\"][].values.csr' -r | grep -v null > csr/Test_Org_v1_ICA1_v1.csr\n",
    " "
   ]
  },
  {
   "cell_type": "raw",
   "id": "0d289ce6",
   "metadata": {},
   "source": [
    "## In a terminal\n",
    "certstrap sign \\\n",
    "     --expires \"3 year\" \\\n",
    "     --csr csr/Test_Org_v1_ICA1_v1.csr \\\n",
    "     --cert out/Intermediate_CA1_v1.crt \\\n",
    "     --intermediate \\\n",
    "     --path-length \"1\" \\\n",
    "     --CA \"Testing Root\" \\\n",
    "     \"Intermediate CA1 v1\"\n",
    "\n",
    "mkdir cacerts\n",
    "cat out/Intermediate_CA1_v1.crt out/Testing_Root.crt > cacerts/test_org_v1_ica1_v1.crt"
   ]
  },
  {
   "cell_type": "code",
   "execution_count": null,
   "id": "84e43339",
   "metadata": {},
   "outputs": [],
   "source": [
    "%%bash\n",
    "cat >> $WORKDIR/test_org_ica1.tf << EOF\n",
    "\n",
    "resource \"vault_pki_secret_backend_intermediate_set_signed\" \"test_org_v1_ica1_v1_signed_cert\" {\n",
    " depends_on   = [vault_mount.test_org_v1_ica1_v1]\n",
    " backend      = vault_mount.test_org_v1_ica1_v1.path\n",
    "\n",
    " certificate = file(\"\\${path.module}/cacerts/test_org_v1_ica1_v1.crt\")\n",
    "}\n",
    "\n",
    "EOF\n",
    "\n",
    "cd $WORKDIR\n",
    "\n",
    "terraform apply -auto-approve\n"
   ]
  },
  {
   "cell_type": "code",
   "execution_count": null,
   "id": "58360d54",
   "metadata": {},
   "outputs": [],
   "source": [
    "%%bash\n",
    "curl  -H \"X-Vault-Namespace: admin\" -s $VAULT_ADDR/v1/test-org/v1/ica1/v1/ca/pem | openssl crl2pkcs7 -nocrl -certfile  /dev/stdin  | openssl pkcs7 -print_certs -noout"
   ]
  },
  {
   "cell_type": "code",
   "execution_count": null,
   "id": "cb219b16",
   "metadata": {},
   "outputs": [],
   "source": [
    "%%bash\n",
    "curl -H \"X-Vault-Namespace: admin\" -s $VAULT_ADDR/v1/test-org/v1/ica1/v1/ca_chain | openssl crl2pkcs7 -nocrl -certfile  /dev/stdin  | openssl pkcs7 -print_certs -noout"
   ]
  },
  {
   "cell_type": "code",
   "execution_count": null,
   "id": "17953e1e",
   "metadata": {},
   "outputs": [],
   "source": [
    "%%bash\n",
    "cat > $WORKDIR/test_org_ica2.tf << EOF\n",
    "resource \"vault_mount\" \"test_org_v1_ica2_v1\" {\n",
    " path                      = \"test-org/v1/ica2/v1\"\n",
    " type                      = \"pki\"\n",
    " description               = \"PKI engine hosting intermediate CA2 v1 for test org\"\n",
    " default_lease_ttl_seconds = local.default_1hr_in_sec\n",
    " max_lease_ttl_seconds     = local.default_1y_in_sec\n",
    "}\n",
    "\n",
    "resource \"vault_pki_secret_backend_intermediate_cert_request\" \"test_org_v1_ica2_v1\" {\n",
    " depends_on   = [vault_mount.test_org_v1_ica2_v1]\n",
    " backend      = vault_mount.test_org_v1_ica2_v1.path\n",
    " type         = \"internal\"\n",
    " common_name  = \"Intermediate CA2 v1 \"\n",
    " key_type     = \"rsa\"\n",
    " key_bits     = \"2048\"\n",
    " ou           = \"test org\"\n",
    " organization = \"test\"\n",
    " country      = \"US\"\n",
    " locality     = \"Bethesda\"\n",
    " province     = \"MD\"\n",
    "}\n",
    "\n",
    "resource \"vault_pki_secret_backend_root_sign_intermediate\" \"test_org_v1_sign_ica2_v1_by_ica1_v1\" {\n",
    " depends_on = [\n",
    "   vault_mount.test_org_v1_ica1_v1,\n",
    "   vault_pki_secret_backend_intermediate_cert_request.test_org_v1_ica2_v1,\n",
    " ]\n",
    " backend              = vault_mount.test_org_v1_ica1_v1.path\n",
    " csr                  = vault_pki_secret_backend_intermediate_cert_request.test_org_v1_ica2_v1.csr\n",
    " common_name          = \"Intermediate CA2 v1.1\"\n",
    " exclude_cn_from_sans = true\n",
    " ou                   = \"test org\"\n",
    " organization         = \"test\"\n",
    " country              = \"US\"\n",
    " locality             = \"Bethesda\"\n",
    " province             = \"MD\"\n",
    " max_path_length      = 1  # Limita la cadena de subordinadas a 1, con lo que no puede haber más intermedias\n",
    " ttl                  = local.default_1y_in_sec\n",
    "}\n",
    "\n",
    "resource \"vault_pki_secret_backend_intermediate_set_signed\" \"test_org_v1_ica2_v1_signed_cert\" {\n",
    " depends_on  = [vault_pki_secret_backend_root_sign_intermediate.test_org_v1_sign_ica2_v1_by_ica1_v1]\n",
    " backend     = vault_mount.test_org_v1_ica2_v1.path\n",
    " certificate = format(\"%s\\n%s\", vault_pki_secret_backend_root_sign_intermediate.test_org_v1_sign_ica2_v1_by_ica1_v1.certificate, file(\"\\${path.module}/cacerts/test_org_v1_ica1_v1.crt\"))\n",
    "}\n",
    "EOF\n",
    "\n",
    "cd $WORKDIR\n",
    "\n",
    "terraform apply -auto-approve"
   ]
  },
  {
   "cell_type": "code",
   "execution_count": null,
   "id": "f005d591",
   "metadata": {},
   "outputs": [],
   "source": [
    "%%bash\n",
    "curl -H \"X-Vault-Namespace: admin\" -s $VAULT_ADDR/v1/test-org/v1/ica2/v1/ca/pem | openssl crl2pkcs7 -nocrl -certfile  /dev/stdin  | openssl pkcs7 -print_certs -noout"
   ]
  },
  {
   "cell_type": "code",
   "execution_count": null,
   "id": "805cec96",
   "metadata": {},
   "outputs": [],
   "source": [
    "%%bash\n",
    "curl -H \"X-Vault-Namespace: admin\" -s $VAULT_ADDR/v1/test-org/v1/ica2/v1/ca_chain | openssl crl2pkcs7 -nocrl -certfile  /dev/stdin  | openssl pkcs7 -print_certs -noout"
   ]
  },
  {
   "cell_type": "code",
   "execution_count": null,
   "id": "81fe7849",
   "metadata": {},
   "outputs": [],
   "source": [
    "%%bash\n",
    "# pathlen:1\n",
    "curl -H \"X-Vault-Namespace: admin\" -s $VAULT_ADDR/v1/test-org/v1/ica2/v1/ca/pem | openssl x509 -in /dev/stdin -noout -text | grep \"X509v3 extensions\"  -A 13"
   ]
  },
  {
   "cell_type": "code",
   "execution_count": null,
   "id": "824b11b4",
   "metadata": {},
   "outputs": [],
   "source": [
    "%%bash\n",
    "# Creamos un role asociado a la última -CA ica2_v1\n",
    "cat > $WORKDIR/test_org_ica2_role_test_dot_com.tf << EOF\n",
    "resource \"vault_pki_secret_backend_role\" \"role\" {\n",
    " backend            = vault_mount.test_org_v1_ica2_v1.path\n",
    " name               = \"test-dot-com-subdomain\"\n",
    " ttl                = local.default_1hr_in_sec\n",
    " allow_ip_sans      = true\n",
    " key_type           = \"rsa\"\n",
    " key_bits           = 2048\n",
    " key_usage          = [ \"DigitalSignature\"]\n",
    " allow_any_name     = false\n",
    " allow_localhost    = false\n",
    " allowed_domains    = [\"test.com\"]\n",
    " allow_bare_domains = false\n",
    " allow_subdomains   = true\n",
    " server_flag        = false\n",
    " client_flag        = true\n",
    " no_store           = true\n",
    " country            = [\"US\"]\n",
    " locality           = [\"Bethesda\"]\n",
    " province           = [\"MD\"]\n",
    "}\n",
    "\n",
    "EOF\n",
    "\n",
    "cd $WORKDIR/\n",
    "\n",
    "terraform apply -auto-approve"
   ]
  },
  {
   "cell_type": "code",
   "execution_count": null,
   "id": "234f8746",
   "metadata": {},
   "outputs": [],
   "source": [
    "%%bash\n",
    "vault write -format=json test-org/v1/ica2/v1/issue/test-dot-com-subdomain \\\n",
    "   common_name=1.test.com | jq .data.certificate -r | openssl x509 -in /dev/stdin -text -noout\n"
   ]
  },
  {
   "cell_type": "code",
   "execution_count": null,
   "id": "43581687",
   "metadata": {},
   "outputs": [],
   "source": [
    "%%bash\n",
    "# https://registry.terraform.io/providers/hashicorp/vault/latest/docs/resources/pki_secret_backend_cert\n",
    "cat > $WORKDIR/request_cert.tf << EOF\n",
    "resource \"vault_pki_secret_backend_cert\" \"app\" {\n",
    "  depends_on = [vault_pki_secret_backend_role.role]\n",
    "\n",
    "  backend = vault_mount.test_org_v1_ica2_v1.path\n",
    "  name = vault_pki_secret_backend_role.role.name\n",
    "\n",
    "  common_name = \"app.my.test.com\"\n",
    "\n",
    "  ttl = \"1h\"\n",
    "}\n",
    "\n",
    "output \"cert\" {\n",
    "  value = vault_pki_secret_backend_cert.app.certificate\n",
    "}\n",
    "\n",
    "EOF\n",
    "\n",
    "cd $WORKDIR/\n",
    "\n",
    "terraform apply -auto-approve\n"
   ]
  },
  {
   "cell_type": "code",
   "execution_count": null,
   "id": "ca2ae4dd",
   "metadata": {},
   "outputs": [],
   "source": [
    "%%bash \n",
    "cd $WORKDIR/\n",
    "\n",
    "terraform output -json | jq .cert.value -r | openssl x509 -in /dev/stdin -text -noout"
   ]
  },
  {
   "cell_type": "raw",
   "id": "774519fa",
   "metadata": {},
   "source": [
    "## In a terminal\n",
    "export VAULT_ADDR=\n",
    "\n",
    "vault login -method=userpass -namespace=admin username=jose\n",
    "vault write -namespace=admin test-org/v1/ica2/v1/issue/test-dot-com-subdomain common_name=1.test.com ttl=\"10m\" "
   ]
  },
  {
   "cell_type": "code",
   "execution_count": null,
   "id": "0e54aaf7",
   "metadata": {},
   "outputs": [],
   "source": [
    "%%bash\n",
    "cat > $WORKDIR/admins.hcl <<EOF\n",
    "# Manage namespaces\n",
    "\n",
    "# Enable and manage secrets engines\n",
    "path \"sys/mounts/*\" {\n",
    "   capabilities = [\"list\"]\n",
    "}\n",
    "\n",
    "# List available secrets engines\n",
    "path \"sys/mounts\" {\n",
    "  capabilities = [ \"read\", \"list\" ]\n",
    "}\n",
    "\n",
    "\n",
    "# Manage secrets at 'pki_int'\n",
    "path \"/pki_int/*\" {\n",
    "   capabilities = [\"read\", \"list\"]\n",
    "}\n",
    "\n",
    "path \"pki_int/issue/example-dot-com\" {\n",
    "   capabilities = [\"update\"]\n",
    "   \n",
    "   control_group = {\n",
    "    factor \"authorizer\" {\n",
    "      identity {\n",
    "        group_names = [ \"acct_manager\" ]\n",
    "        approvals = 1\n",
    "      }\n",
    "    }\n",
    "  }\n",
    "}\n",
    "path \"test-org/v1/ica2/v1/issue/test-dot-com-subdomain\" {\n",
    "   capabilities = [\"update\"]\n",
    "}\n",
    "EOF\n",
    "\n",
    "vault policy write admins $WORKDIR/admins.hcl\n"
   ]
  },
  {
   "cell_type": "raw",
   "id": "22bc77ec",
   "metadata": {},
   "source": [
    "## In a terminal\n",
    "\n",
    "vault login -method=userpass -namespace=admin username=jose\n",
    "vault write -namespace=admin test-org/v1/ica2/v1/issue/test-dot-com-subdomain common_name=1.test.com ttl=\"10m\" "
   ]
  },
  {
   "cell_type": "code",
   "execution_count": null,
   "id": "388732d5",
   "metadata": {},
   "outputs": [],
   "source": [
    "%%bash\n",
    "# Clean up\n",
    "cd $WORKDIR/\n",
    "\n",
    "terraform apply -destroy -auto-approve \n",
    "cd ..\n",
    "rm -rf $WORKDIR"
   ]
  },
  {
   "cell_type": "raw",
   "id": "f198d02e",
   "metadata": {},
   "source": [
    "## HCP Terminal\n",
    "cd ~/Demo/Cajamar_HCP_Vault_PKI/vault-guides/cloud/terraform-hcp-vault/hcp-vault-vpc/\n",
    "terraform apply -destroy -auto-approve "
   ]
  }
 ],
 "metadata": {
  "kernelspec": {
   "display_name": "Python 3 (ipykernel)",
   "language": "python",
   "name": "python3"
  },
  "language_info": {
   "codemirror_mode": {
    "name": "ipython",
    "version": 3
   },
   "file_extension": ".py",
   "mimetype": "text/x-python",
   "name": "python",
   "nbconvert_exporter": "python",
   "pygments_lexer": "ipython3",
   "version": "3.9.6"
  }
 },
 "nbformat": 4,
 "nbformat_minor": 5
}
